{
 "cells": [
  {
   "outputs": [],
   "cell_type": "markdown",
   "source": [
    "# Summary\n",
    "\n",
    "* Challenges of parallel computing\n",
    "    * Order of execution\n",
    "        * execution of out order of Possibility\n",
    "        * simultaneous access and mutation\n",
    "    * Data access and movement\n",
    "    * Code access and movement\n",
    "    * Appropriately matching the parallelism strategy to your machine capabilities\n",
    "    * Appropriately matching the parallelism strategy with the problem at hand\n",
    "\n",
    "* Parallelism strategies\n",
    "    * SIMD\n",
    "    * Multithreading\n",
    "    * Tasks\n",
    "    * Multi-process\n",
    "        * Shared memory\n",
    "        * Distributed memory\n",
    "    * GPU programming\n",
    "\n",
    "\n",
    "## Why so many kinds of parallelism?\n",
    "\n",
    "* Not all problems are created equal\n",
    "* Not all computing machines are created equal\n",
    "* We want to maximize comuting while minimizing overhead\n",
    "    * Chosen solution will depend upon the amount of computing in each inner loop\n",
    "      and the amount of syncronization that is required between loops."
   ],
   "metadata": {}
  }
 ],
 "nbformat_minor": 3,
 "metadata": {
  "language_info": {
   "file_extension": ".jl",
   "mimetype": "application/julia",
   "name": "julia",
   "version": "1.1.2-pre.0"
  },
  "kernelspec": {
   "name": "julia-1.1",
   "display_name": "Julia 1.1.2-pre.0",
   "language": "julia"
  }
 },
 "nbformat": 4
}
